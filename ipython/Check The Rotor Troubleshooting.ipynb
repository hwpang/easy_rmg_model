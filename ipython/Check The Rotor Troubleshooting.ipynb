{
 "cells": [
  {
   "cell_type": "markdown",
   "metadata": {},
   "source": [
    "# Check The Rotor troubleshooting "
   ]
  },
  {
   "cell_type": "code",
   "execution_count": null,
   "metadata": {},
   "outputs": [],
   "source": [
    "import os\n",
    "import subprocess\n",
    "\n",
    "import pandas as pd\n",
    "\n",
    "from arc.job.trsh import scan_quality_check, trsh_scan_job, determine_ess_status\n",
    "from arc.parser import parse_scan_args, parse_1d_scan_energies, parse_geometry, parse_scan_conformers\n",
    "from arc.plotter import plot_1d_rotor_scan\n",
    "\n",
    "from arc.species.converter import xyz_to_xyz_file_format\n",
    "\n",
    "%matplotlib inline\n",
    "%load_ext autoreload\n",
    "%autoreload 2"
   ]
  },
  {
   "cell_type": "code",
   "execution_count": null,
   "metadata": {},
   "outputs": [],
   "source": [
    "path = '/Users/xiaorui/Dropbox/RMG/Co-OPTIMA/Hyperboost/Weird rotor/input.log'"
   ]
  },
  {
   "cell_type": "markdown",
   "metadata": {},
   "source": [
    "## 1.Check Convergence\n",
    "'done' means normally converged"
   ]
  },
  {
   "cell_type": "code",
   "execution_count": null,
   "metadata": {},
   "outputs": [],
   "source": [
    "determine_ess_status(path, '', 'scan', 'gaussian')"
   ]
  },
  {
   "cell_type": "markdown",
   "metadata": {},
   "source": [
    "## 2. Scan Quality check\n",
    "`False` means nothing bad, and `True` means something wrong and needs troubleshooting"
   ]
  },
  {
   "cell_type": "code",
   "execution_count": null,
   "metadata": {},
   "outputs": [],
   "source": [
    "scan_args = parse_scan_args(path)\n",
    "energies, angles = parse_1d_scan_energies(path) \n",
    "quality = scan_quality_check('', scan_args['scan'][1:-1], energies, scan_args['step_size'], [], path)\n",
    "print('scan: ', scan_args['scan'], 'scan_res:', scan_args['step_size'])\n",
    "quality"
   ]
  },
  {
   "cell_type": "markdown",
   "metadata": {},
   "source": [
    "## 3. Scan troubleshooting"
   ]
  },
  {
   "cell_type": "code",
   "execution_count": null,
   "metadata": {
    "scrolled": true
   },
   "outputs": [],
   "source": [
    "if 'freeze' in quality[3]:\n",
    "    species_scan_lists = [scan_args['scan']]\n",
    "    solution = trsh_scan_job('', scan_args['step_size'], scan_args['scan'], species_scan_lists, quality[3], path)\n",
    "    print(solution[0])\n",
    "\n",
    "if 'change conformer' in quality[3]:\n",
    "    xyz = parse_geometry(path)\n",
    "    new_xyz = quality[3]['change conformer']\n",
    "    print('original:')\n",
    "    print(xyz_to_xyz_file_format(xyz))\n",
    "    print('New')\n",
    "    print(xyz_to_xyz_file_format(new_xyz))"
   ]
  },
  {
   "cell_type": "markdown",
   "metadata": {},
   "source": [
    "## 4. Check curve"
   ]
  },
  {
   "cell_type": "code",
   "execution_count": null,
   "metadata": {
    "scrolled": false
   },
   "outputs": [],
   "source": [
    "plot_1d_rotor_scan(angles, energies)"
   ]
  },
  {
   "cell_type": "markdown",
   "metadata": {},
   "source": [
    "## 5. Open Molden\n",
    "Exit molden either in a normal way (skull button) or stop the kernel"
   ]
  },
  {
   "cell_type": "code",
   "execution_count": null,
   "metadata": {},
   "outputs": [],
   "source": [
    "cmd = ['/Users/xiaorui/Apps/molden/molden', f'{path}']\n",
    "subprocess.Popen(cmd)"
   ]
  },
  {
   "cell_type": "markdown",
   "metadata": {},
   "source": [
    "## 6. Look at values of internal coordinates"
   ]
  },
  {
   "cell_type": "code",
   "execution_count": null,
   "metadata": {},
   "outputs": [],
   "source": [
    "scan_conformers = parse_scan_conformers(path)"
   ]
  },
  {
   "cell_type": "markdown",
   "metadata": {},
   "source": [
    "you can apply `DataFrame` type filter to search for internal coordinates values, here shows an example"
   ]
  },
  {
   "cell_type": "code",
   "execution_count": null,
   "metadata": {},
   "outputs": [],
   "source": [
    "scan_conformers[(scan_conformers['type'] == 'D') & (scan_conformers['scan'] == False)].loc[:, ['atoms', 0] + list(range(7,46))]"
   ]
  },
  {
   "cell_type": "code",
   "execution_count": null,
   "metadata": {},
   "outputs": [],
   "source": []
  }
 ],
 "metadata": {
  "@webio": {
   "lastCommId": null,
   "lastKernelId": null
  },
  "kernelspec": {
   "display_name": "Python 3",
   "language": "python",
   "name": "python3"
  },
  "language_info": {
   "codemirror_mode": {
    "name": "ipython",
    "version": 3
   },
   "file_extension": ".py",
   "mimetype": "text/x-python",
   "name": "python",
   "nbconvert_exporter": "python",
   "pygments_lexer": "ipython3",
   "version": "3.7.6"
  }
 },
 "nbformat": 4,
 "nbformat_minor": 2
}
