{
 "cells": [
  {
   "cell_type": "code",
   "execution_count": 1,
   "metadata": {},
   "outputs": [],
   "source": [
    "from easy_rmg_model.arc.management import remove_remote_calc_files"
   ]
  },
  {
   "cell_type": "code",
   "execution_count": 6,
   "metadata": {},
   "outputs": [],
   "source": [
    "server_name = 'c3ddb'\n",
    "local_project_path = \"/Users/xiaorui/RMG server/arc_job/hyperboosting/prenol/ro2_add/\"\n",
    "only_converged = True"
   ]
  },
  {
   "cell_type": "code",
   "execution_count": 7,
   "metadata": {},
   "outputs": [
    {
     "name": "stderr",
     "output_type": "stream",
     "text": [
      "WARNING:root:CC(=CCO)CO[O] dir (runs/ARC_Projects/Prenol/CC_=CCO_CO[O]) is removed.\n",
      "WARNING:root:CC(C)=CC(O)O[O] dir (runs/ARC_Projects/Prenol/CC_C_=CC_O_O[O]) is removed.\n",
      "WARNING:root:CC1([CH]CO)COO1 dir (runs/ARC_Projects/Prenol/CC1_[CH]CO_COO1) is removed.\n",
      "WARNING:root:C[C](C)C1OOC1O dir (runs/ARC_Projects/Prenol/C[C]_C_C1OOC1O) is removed.\n",
      "WARNING:root:C[C]1COOC1CO dir (runs/ARC_Projects/Prenol/C[C]1COOC1CO) is removed.\n"
     ]
    }
   ],
   "source": [
    "remove_remote_calc_files(server_name, local_project_path, only_converged)"
   ]
  },
  {
   "cell_type": "code",
   "execution_count": null,
   "metadata": {},
   "outputs": [],
   "source": []
  }
 ],
 "metadata": {
  "@webio": {
   "lastCommId": null,
   "lastKernelId": null
  },
  "kernelspec": {
   "display_name": "Python 3",
   "language": "python",
   "name": "python3"
  },
  "language_info": {
   "codemirror_mode": {
    "name": "ipython",
    "version": 3
   },
   "file_extension": ".py",
   "mimetype": "text/x-python",
   "name": "python",
   "nbconvert_exporter": "python",
   "pygments_lexer": "ipython3",
   "version": "3.7.6"
  }
 },
 "nbformat": 4,
 "nbformat_minor": 4
}
