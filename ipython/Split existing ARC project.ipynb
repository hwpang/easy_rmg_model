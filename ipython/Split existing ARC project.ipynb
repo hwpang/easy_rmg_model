{
 "cells": [
  {
   "cell_type": "markdown",
   "metadata": {},
   "source": [
    "# Split existing ARC project"
   ]
  },
  {
   "cell_type": "markdown",
   "metadata": {},
   "source": [
    "Currently, this notebook support split by \n",
    "- multiplicity (ARC has trouble do isomorhpic check for birads)\n",
    "- convergence (deal crashed jobs in a separate project)\n",
    "- user-defined label list"
   ]
  },
  {
   "cell_type": "code",
   "execution_count": null,
   "metadata": {},
   "outputs": [],
   "source": [
    "import os\n",
    "import shutil\n",
    "from copy import deepcopy\n",
    "\n",
    "import numpy as np\n",
    "\n",
    "from rmgpy.species import Species\n",
    "from easy_rmg_model.common import read_yaml_file, save_yaml_file\n",
    "from easy_rmg_model.species.converter import xyz_to_mol"
   ]
  },
  {
   "cell_type": "code",
   "execution_count": null,
   "metadata": {},
   "outputs": [],
   "source": [
    "########################################################\n",
    "org_ARC_project = '/Users/xiaorui/RMG server/arc_job/hyperboosting/dmbene/first_iter/part2'\n",
    "new_ARC_project = '/Users/xiaorui/RMG server/arc_job/hyperboosting/dmbene/first_iter/birad2'\n",
    "########################################################\n",
    "\n",
    "org_restart_dict = read_yaml_file(os.path.join(org_ARC_project, 'restart.yml'))"
   ]
  },
  {
   "cell_type": "markdown",
   "metadata": {},
   "source": [
    "## [OPTIONAL] Filter by multiplicity\n",
    "Currently isomorphism check has a problem checking biradicals (and more complicated species), we can split the job into two parts"
   ]
  },
  {
   "cell_type": "code",
   "execution_count": null,
   "metadata": {},
   "outputs": [],
   "source": [
    "to_move_out = []\n",
    "for info in org_restart_dict[\"species\"]:\n",
    "    if info['multiplicity'] > 2:\n",
    "        to_move_out.append(info[\"label\"])\n",
    "print(\"Species to be split:\")\n",
    "print(to_move_out)"
   ]
  },
  {
   "cell_type": "markdown",
   "metadata": {},
   "source": [
    "## [OPTIONAL] Filter by convergence\n",
    "We can also split a project into converged and non-converged species"
   ]
  },
  {
   "cell_type": "code",
   "execution_count": null,
   "metadata": {},
   "outputs": [],
   "source": [
    "to_move_out = []\n",
    "for label, info in org_restart_dict[\"output\"].items():\n",
    "    if info['convergence'] = False:\n",
    "        to_move_out.append(label)\n",
    "print(\"Species to be split:\")\n",
    "print(to_move_out)"
   ]
  },
  {
   "cell_type": "markdown",
   "metadata": {},
   "source": [
    "## [OPTIONAL] Filter by user-defined label list\n",
    "User can set their own list"
   ]
  },
  {
   "cell_type": "code",
   "execution_count": null,
   "metadata": {},
   "outputs": [],
   "source": [
    "to_move_out = []\n",
    "print(to_move_out)"
   ]
  },
  {
   "cell_type": "markdown",
   "metadata": {},
   "source": [
    "Create a new restart dictionary and save the split orignal dictionary"
   ]
  },
  {
   "cell_type": "code",
   "execution_count": null,
   "metadata": {},
   "outputs": [],
   "source": [
    "new_restart_dict = deepcopy(org_restart_dict)\n",
    "new_restart_dict[\"output\"] = {}\n",
    "new_restart_dict[\"running_jobs\"] = {}\n",
    "new_restart_dict[\"species\"] = {}\n",
    "# Make species section a dict object for easier search\n",
    "org_restart_dict[\"species\"] = {spc[\"label\"]: spc for spc in org_restart_dict[\"species\"]}\n",
    "\n",
    "# Remove things from the original restart file\n",
    "for label in to_move_out:\n",
    "    for section in [\"output\", \"running_jobs\", \"species\"]:\n",
    "        try:\n",
    "            popped = org_restart_dict[section].pop(label)\n",
    "        except KeyError:\n",
    "            pass\n",
    "        else:\n",
    "            new_restart_dict[section][label] = popped\n",
    "\n",
    "# Revert change to species section\n",
    "org_restart_dict[\"species\"] = [spc for spc in org_restart_dict[\"species\"].values()]\n",
    "# Save it as 'restart_new.yml' to avoid overwrite\n",
    "save_yaml_file(os.path.join(org_ARC_project, 'restart_new.yml'), org_restart_dict)"
   ]
  },
  {
   "cell_type": "markdown",
   "metadata": {},
   "source": [
    "## [ONLY FOR Filter by multiplicity]\n",
    "Check the biradical isomorphism by OBMOL, and remove the error message in `output`"
   ]
  },
  {
   "cell_type": "code",
   "execution_count": null,
   "metadata": {},
   "outputs": [],
   "source": [
    "not_known = {}\n",
    "new_restart_dict[\"allow_nonisomorphic_2d\"] = True\n",
    "for label in list(new_restart_dict[\"species\"].keys()):\n",
    "    # Find the lowest conformer\n",
    "    spc = new_restart_dict[\"species\"][label]\n",
    "    min_ind = np.argmin(spc[\"conformer_energies\"])\n",
    "    # Get the mol from lowest conformer\n",
    "    xyz = spc['conformers'][min_ind]\n",
    "    try:\n",
    "        perceive_mol = xyz_to_mol(xyz)\n",
    "    except:\n",
    "        print(f\"Cannot perceive {label}.\")\n",
    "        not_known[label] = spc\n",
    "        continue\n",
    "    mol = Species().from_adjacency_list(spc[\"mol\"])\n",
    "    mol.generate_resonance_structures()\n",
    "    if not mol.is_isomorphic(perceive_mol):\n",
    "        not_known[label] = spc\n",
    "        print(f\"{label} is not isomorphic to {mol}\")\n",
    "        continue\n",
    "    # modify output section\n",
    "    info = new_restart_dict[\"output\"][label]\n",
    "    info['conformers'] = f'most stable conformer (min_ind) passed '\n",
    "                         f'isomorphism check according to OBMOL perception; '\n",
    "    info['job_types'] = deepcopy(new_restart_dict['job_types'])\n",
    "    if 'composite_method' in new_restart_dict:\n",
    "        info['job_types']['composite'] = True\n",
    "    for job_type, path in info['paths'].items():\n",
    "        if path:\n",
    "            job_path, file_name = os.path.split(path) \n",
    "            _, job_name = os.path.split(job_path)\n",
    "        info[paths][job_type] = os.path.join(new_ARC_project, 'calcs', 'Species', label, job_name, file_name)\n",
    "\n",
    "for label in not_known:\n",
    "    for section in [\"output\", \"running_jobs\", \"species\"]:\n",
    "        new_restart_dict[section].pop(label)\n"
   ]
  },
  {
   "cell_type": "markdown",
   "metadata": {},
   "source": [
    "## Save the split part to the new directory"
   ]
  },
  {
   "cell_type": "code",
   "execution_count": null,
   "metadata": {},
   "outputs": [],
   "source": [
    "try:\n",
    "    os.makedirs(new_ARC_project)\n",
    "except:\n",
    "    pass\n",
    "\n",
    "# Revert change to the species section\n",
    "new_restart_dict[\"species\"] = [spc for spc in new_restart_dict[\"species\"].values()]\n",
    "\n",
    "# Save restart file\n",
    "save_yaml_file(os.path.join(new_ARC_project, 'restart.yml'), new_restart_dict)\n",
    "\n",
    "# Migrate species and outputs\n",
    "for sub_dir in ['calcs', 'output']:\n",
    "    old_path = os.path.join(org_ARC_project, sub_dir, 'Species')\n",
    "    new_path = os.path.join(new_ARC_project, sub_dir, 'Species')\n",
    "    for label in new_restart_dict['output']:\n",
    "        try:\n",
    "            shutil.move(os.path.join(old_path, label),\n",
    "                        os.path.join(new_path, label))\n",
    "        except:\n",
    "            print(f'Cannot move {sub_dir}/{label}')\n",
    "            os.makedirs(os.path.join(new_path, label), exist_ok=True)"
   ]
  }
 ],
 "metadata": {
  "@webio": {
   "lastCommId": null,
   "lastKernelId": null
  },
  "kernelspec": {
   "display_name": "Python 3.7.6 64-bit ('arc_env': conda)",
   "language": "python",
   "name": "python37664bitarcenvconda83c4abf9215d4a698ce68e2a44e6e6bc"
  },
  "language_info": {
   "codemirror_mode": {
    "name": "ipython",
    "version": 3
   },
   "file_extension": ".py",
   "mimetype": "text/x-python",
   "name": "python",
   "nbconvert_exporter": "python",
   "pygments_lexer": "ipython3",
   "version": "3.7.6"
  }
 },
 "nbformat": 4,
 "nbformat_minor": 4
}
